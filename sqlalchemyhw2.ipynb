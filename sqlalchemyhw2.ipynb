{
 "cells": [
  {
   "cell_type": "code",
   "execution_count": 1,
   "metadata": {},
   "outputs": [],
   "source": [
    "from matplotlib import style\n",
    "style.use('fivethirtyeight')\n",
    "import matplotlib.pyplot as plt\n",
    "import numpy as np\n",
    "import pandas as pd\n",
    "import datetime as dt\n",
    "import json"
   ]
  },
  {
   "cell_type": "code",
   "execution_count": 2,
   "metadata": {},
   "outputs": [],
   "source": [
    "import sqlalchemy\n",
    "from sqlalchemy.ext.automap import automap_base\n",
    "from sqlalchemy.orm import Session\n",
    "from sqlalchemy import create_engine, func\n",
    "from sqlalchemy import inspect"
   ]
  },
  {
   "cell_type": "code",
   "execution_count": 3,
   "metadata": {},
   "outputs": [
    {
     "name": "stdout",
     "output_type": "stream",
     "text": [
      "['measurement', 'station']\n"
     ]
    }
   ],
   "source": [
    "engine = create_engine(\"sqlite:///hawaii.sqlite\")\n",
    "Base = automap_base()\n",
    "Base.prepare(engine, reflect=True)\n",
    "print(Base.classes.keys())"
   ]
  },
  {
   "cell_type": "code",
   "execution_count": 4,
   "metadata": {},
   "outputs": [],
   "source": [
    "Measurement = Base.classes.measurement\n",
    "Station = Base.classes.station"
   ]
  },
  {
   "cell_type": "code",
   "execution_count": 5,
   "metadata": {},
   "outputs": [],
   "source": [
    "session = Session(engine)"
   ]
  },
  {
   "cell_type": "code",
   "execution_count": 6,
   "metadata": {},
   "outputs": [
    {
     "data": {
      "text/plain": [
       "('2017-08-23')"
      ]
     },
     "execution_count": 6,
     "metadata": {},
     "output_type": "execute_result"
    }
   ],
   "source": [
    "today = session.query(Measurement.date).order_by(Measurement.date.desc()).first()\n",
    "today"
   ]
  },
  {
   "cell_type": "code",
   "execution_count": 7,
   "metadata": {},
   "outputs": [
    {
     "data": {
      "text/plain": [
       "'2017-08-23'"
      ]
     },
     "execution_count": 7,
     "metadata": {},
     "output_type": "execute_result"
    }
   ],
   "source": [
    "today = str(today)[2:-3]\n",
    "today"
   ]
  },
  {
   "cell_type": "code",
   "execution_count": 8,
   "metadata": {},
   "outputs": [
    {
     "data": {
      "text/plain": [
       "'2016-08-23'"
      ]
     },
     "execution_count": 8,
     "metadata": {},
     "output_type": "execute_result"
    }
   ],
   "source": [
    "yearAgo = str(eval(today[:4])-1) + today[4:]\n",
    "yearAgo"
   ]
  },
  {
   "cell_type": "code",
   "execution_count": 9,
   "metadata": {},
   "outputs": [],
   "source": [
    "year_precp = session.query(Measurement.date, Measurement.prcp).filter(Measurement.date > yearAgo).all()\n"
   ]
  },
  {
   "cell_type": "code",
   "execution_count": 10,
   "metadata": {},
   "outputs": [
    {
     "data": {
      "text/plain": [
       "list"
      ]
     },
     "execution_count": 10,
     "metadata": {},
     "output_type": "execute_result"
    }
   ],
   "source": [
    "type(year_precp)"
   ]
  },
  {
   "cell_type": "code",
   "execution_count": 11,
   "metadata": {},
   "outputs": [
    {
     "data": {
      "text/html": [
       "<div>\n",
       "<style scoped>\n",
       "    .dataframe tbody tr th:only-of-type {\n",
       "        vertical-align: middle;\n",
       "    }\n",
       "\n",
       "    .dataframe tbody tr th {\n",
       "        vertical-align: top;\n",
       "    }\n",
       "\n",
       "    .dataframe thead th {\n",
       "        text-align: right;\n",
       "    }\n",
       "</style>\n",
       "<table border=\"1\" class=\"dataframe\">\n",
       "  <thead>\n",
       "    <tr style=\"text-align: right;\">\n",
       "      <th></th>\n",
       "      <th>Date</th>\n",
       "      <th>level of precipitation</th>\n",
       "    </tr>\n",
       "  </thead>\n",
       "  <tbody>\n",
       "    <tr>\n",
       "      <th>0</th>\n",
       "      <td>2016-08-24</td>\n",
       "      <td>0.08</td>\n",
       "    </tr>\n",
       "    <tr>\n",
       "      <th>1</th>\n",
       "      <td>2016-08-25</td>\n",
       "      <td>0.08</td>\n",
       "    </tr>\n",
       "    <tr>\n",
       "      <th>2</th>\n",
       "      <td>2016-08-26</td>\n",
       "      <td>0.00</td>\n",
       "    </tr>\n",
       "    <tr>\n",
       "      <th>3</th>\n",
       "      <td>2016-08-27</td>\n",
       "      <td>0.00</td>\n",
       "    </tr>\n",
       "    <tr>\n",
       "      <th>4</th>\n",
       "      <td>2016-08-28</td>\n",
       "      <td>0.01</td>\n",
       "    </tr>\n",
       "  </tbody>\n",
       "</table>\n",
       "</div>"
      ],
      "text/plain": [
       "         Date  level of precipitation\n",
       "0  2016-08-24                    0.08\n",
       "1  2016-08-25                    0.08\n",
       "2  2016-08-26                    0.00\n",
       "3  2016-08-27                    0.00\n",
       "4  2016-08-28                    0.01"
      ]
     },
     "execution_count": 11,
     "metadata": {},
     "output_type": "execute_result"
    }
   ],
   "source": [
    "year_precipitation_table = pd.DataFrame(year_precp, columns = [\"Date\", \"level of precipitation\"])\n",
    "year_precipitation_table.head()"
   ]
  },
  {
   "cell_type": "code",
   "execution_count": 12,
   "metadata": {},
   "outputs": [
    {
     "data": {
      "image/png": "[encoded data removed]",
      "text/plain": [
       "<Figure size 432x288 with 1 Axes>"
      ]
     },
     "metadata": {},
     "output_type": "display_data"
    }
   ],
   "source": [
    "year_precipitation_table.plot(use_index=True)\n",
    "plt.title(\"Precipitation by Year\" + \" \" + today + \" \" + yearAgo)\n",
    "plt.show()\n"
   ]
  },
  {
   "cell_type": "code",
   "execution_count": 13,
   "metadata": {},
   "outputs": [
    {
     "data": {
      "text/html": [
       "<div>\n",
       "<style scoped>\n",
       "    .dataframe tbody tr th:only-of-type {\n",
       "        vertical-align: middle;\n",
       "    }\n",
       "\n",
       "    .dataframe tbody tr th {\n",
       "        vertical-align: top;\n",
       "    }\n",
       "\n",
       "    .dataframe thead th {\n",
       "        text-align: right;\n",
       "    }\n",
       "</style>\n",
       "<table border=\"1\" class=\"dataframe\">\n",
       "  <thead>\n",
       "    <tr style=\"text-align: right;\">\n",
       "      <th></th>\n",
       "      <th>level of precipitation</th>\n",
       "    </tr>\n",
       "  </thead>\n",
       "  <tbody>\n",
       "    <tr>\n",
       "      <th>count</th>\n",
       "      <td>2015.000000</td>\n",
       "    </tr>\n",
       "    <tr>\n",
       "      <th>mean</th>\n",
       "      <td>0.176462</td>\n",
       "    </tr>\n",
       "    <tr>\n",
       "      <th>std</th>\n",
       "      <td>0.460288</td>\n",
       "    </tr>\n",
       "    <tr>\n",
       "      <th>min</th>\n",
       "      <td>0.000000</td>\n",
       "    </tr>\n",
       "    <tr>\n",
       "      <th>25%</th>\n",
       "      <td>0.000000</td>\n",
       "    </tr>\n",
       "    <tr>\n",
       "      <th>50%</th>\n",
       "      <td>0.020000</td>\n",
       "    </tr>\n",
       "    <tr>\n",
       "      <th>75%</th>\n",
       "      <td>0.130000</td>\n",
       "    </tr>\n",
       "    <tr>\n",
       "      <th>max</th>\n",
       "      <td>6.700000</td>\n",
       "    </tr>\n",
       "  </tbody>\n",
       "</table>\n",
       "</div>"
      ],
      "text/plain": [
       "       level of precipitation\n",
       "count             2015.000000\n",
       "mean                 0.176462\n",
       "std                  0.460288\n",
       "min                  0.000000\n",
       "25%                  0.000000\n",
       "50%                  0.020000\n",
       "75%                  0.130000\n",
       "max                  6.700000"
      ]
     },
     "execution_count": 13,
     "metadata": {},
     "output_type": "execute_result"
    }
   ],
   "source": [
    "year_precipitation_table.describe()\n"
   ]
  },
  {
   "cell_type": "code",
   "execution_count": 14,
   "metadata": {},
   "outputs": [
    {
     "data": {
      "text/plain": [
       "9"
      ]
     },
     "execution_count": 14,
     "metadata": {},
     "output_type": "execute_result"
    }
   ],
   "source": [
    "station_list = session.query(Station.station)\n",
    "station_list.count()"
   ]
  },
  {
   "cell_type": "code",
   "execution_count": 15,
   "metadata": {},
   "outputs": [],
   "source": [
    "most_active_stations = session.query(Measurement.station, func.count(Measurement.station)).group_by(Measurement.station).order_by(func.count(Measurement.station).desc())"
   ]
  },
  {
   "cell_type": "code",
   "execution_count": 16,
   "metadata": {},
   "outputs": [
    {
     "name": "stdout",
     "output_type": "stream",
     "text": [
      "('USC00519281', 2772)\n",
      "('USC00519397', 2724)\n",
      "('USC00513117', 2709)\n",
      "('USC00519523', 2669)\n",
      "('USC00516128', 2612)\n",
      "('USC00514830', 2202)\n",
      "('USC00511918', 1979)\n",
      "('USC00517948', 1372)\n",
      "('USC00518838', 511)\n"
     ]
    }
   ],
   "source": [
    "for row in most_active_stations:\n",
    "    print(row)"
   ]
  },
  {
   "cell_type": "code",
   "execution_count": 17,
   "metadata": {},
   "outputs": [],
   "source": [
    "top_station = most_active_stations[0][0]"
   ]
  },
  {
   "cell_type": "code",
   "execution_count": 18,
   "metadata": {},
   "outputs": [],
   "source": [
    "hottest_station_list = session.query(Measurement.tobs).group_by(Measurement.tobs).filter(Measurement.station==top_station).filter(Measurement.date > yearAgo).order_by(Measurement.tobs.desc()).all()"
   ]
  },
  {
   "cell_type": "code",
   "execution_count": 19,
   "metadata": {},
   "outputs": [
    {
     "data": {
      "text/plain": [
       "list"
      ]
     },
     "execution_count": 19,
     "metadata": {},
     "output_type": "execute_result"
    }
   ],
   "source": [
    "type(hottest_station_list)"
   ]
  },
  {
   "cell_type": "code",
   "execution_count": 20,
   "metadata": {},
   "outputs": [
    {
     "data": {
      "text/html": [
       "<div>\n",
       "<style scoped>\n",
       "    .dataframe tbody tr th:only-of-type {\n",
       "        vertical-align: middle;\n",
       "    }\n",
       "\n",
       "    .dataframe tbody tr th {\n",
       "        vertical-align: top;\n",
       "    }\n",
       "\n",
       "    .dataframe thead th {\n",
       "        text-align: right;\n",
       "    }\n",
       "</style>\n",
       "<table border=\"1\" class=\"dataframe\">\n",
       "  <thead>\n",
       "    <tr style=\"text-align: right;\">\n",
       "      <th></th>\n",
       "      <th>temperature</th>\n",
       "    </tr>\n",
       "  </thead>\n",
       "  <tbody>\n",
       "    <tr>\n",
       "      <th>0</th>\n",
       "      <td>83.0</td>\n",
       "    </tr>\n",
       "    <tr>\n",
       "      <th>1</th>\n",
       "      <td>82.0</td>\n",
       "    </tr>\n",
       "    <tr>\n",
       "      <th>2</th>\n",
       "      <td>81.0</td>\n",
       "    </tr>\n",
       "    <tr>\n",
       "      <th>3</th>\n",
       "      <td>80.0</td>\n",
       "    </tr>\n",
       "    <tr>\n",
       "      <th>4</th>\n",
       "      <td>79.0</td>\n",
       "    </tr>\n",
       "  </tbody>\n",
       "</table>\n",
       "</div>"
      ],
      "text/plain": [
       "   temperature\n",
       "0         83.0\n",
       "1         82.0\n",
       "2         81.0\n",
       "3         80.0\n",
       "4         79.0"
      ]
     },
     "execution_count": 20,
     "metadata": {},
     "output_type": "execute_result"
    }
   ],
   "source": [
    "most_active_tobs_table = pd.DataFrame(hottest_station_list, columns = [\"temperature\"])\n",
    "most_active_tobs_table.head()"
   ]
  },
  {
   "cell_type": "code",
   "execution_count": 21,
   "metadata": {},
   "outputs": [
    {
     "data": {
      "image/png": "[encoded data removed]",
      "text/plain": [
       "<Figure size 432x288 with 1 Axes>"
      ]
     },
     "metadata": {},
     "output_type": "display_data"
    }
   ],
   "source": [
    "tobs_histogram = most_active_tobs_table.hist(bins=12)\n",
    "plt.title(\"Tobs Histogram\")\n",
    "plt.xlabel(\"temperature\")\n",
    "plt.ylabel(\"frequency x quantity\")\n",
    "plt.show()"
   ]
  },
  {
   "cell_type": "code",
   "execution_count": null,
   "metadata": {},
   "outputs": [
    {
     "name": "stderr",
     "output_type": "stream",
     "text": [
      " * Running on http://localhost:9000/ (Press CTRL+C to quit)\n",
      "127.0.0.1 - - [28/Sep/2018 21:26:39] \"GET /api/v1.0/precipitation HTTP/1.1\" 200 -\n"
     ]
    },
    {
     "name": "stdout",
     "output_type": "stream",
     "text": [
      "{'2016-08-24': 74.0, '2016-08-25': 77.0, '2016-08-26': 80.0, '2016-08-27': 74.0, '2016-08-28': 71.0, '2016-08-29': 78.0, '2016-08-30': 75.0, '2016-08-31': 76.0, '2016-09-01': 77.0, '2016-09-02': 75.0, '2016-09-03': 75.0, '2016-09-04': 73.0, '2016-09-05': 76.0, '2016-09-06': 73.0, '2016-09-07': 74.0, '2016-09-08': 74.0, '2016-09-09': 75.0, '2016-09-10': 75.0, '2016-09-11': 71.0, '2016-09-12': 72.0, '2016-09-13': 75.0, '2016-09-14': 73.0, '2016-09-15': 73.0, '2016-09-16': 73.0, '2016-09-17': 76.0, '2016-09-18': 75.0, '2016-09-19': 70.0, '2016-09-20': 70.0, '2016-09-21': 73.0, '2016-09-22': 73.0, '2016-09-23': 73.0, '2016-09-24': 77.0, '2016-09-25': 76.0, '2016-09-26': 74.0, '2016-09-27': 74.0, '2016-09-28': 77.0, '2016-09-29': 77.0, '2016-09-30': 73.0, '2016-10-01': 74.0, '2016-10-02': 73.0, '2016-10-03': 76.0, '2016-10-04': 74.0, '2016-10-05': 75.0, '2016-10-06': 75.0, '2016-10-07': 73.0, '2016-10-08': 74.0, '2016-10-09': 77.0, '2016-10-10': 74.0, '2016-10-11': 74.0, '2016-10-12': 78.0, '2016-10-13': 75.0, '2016-10-14': 73.0, '2016-10-15': 74.0, '2016-10-16': 77.0, '2016-10-17': 70.0, '2016-10-18': 74.0, '2016-10-19': 70.0, '2016-10-20': 73.0, '2016-10-21': 74.0, '2016-10-22': 75.0, '2016-10-23': 72.0, '2016-10-24': 71.0, '2016-10-25': 74.0, '2016-10-26': 75.0, '2016-10-27': 71.0, '2016-10-28': 68.0, '2016-10-29': 71.0, '2016-10-30': 76.0, '2016-10-31': 69.0, '2016-11-01': 73.0, '2016-11-02': 76.0, '2016-11-03': 74.0, '2016-11-04': 74.0, '2016-11-05': 69.0, '2016-11-06': 77.0, '2016-11-07': 71.0, '2016-11-08': 71.0, '2016-11-09': 71.0, '2016-11-10': 71.0, '2016-11-11': 67.0, '2016-11-12': 73.0, '2016-11-13': 72.0, '2016-11-14': 74.0, '2016-11-15': 72.0, '2016-11-16': 72.0, '2016-11-17': 75.0, '2016-11-18': 75.0, '2016-11-19': 73.0, '2016-11-20': 74.0, '2016-11-21': 71.0, '2016-11-22': 73.0, '2016-11-23': 69.0, '2016-11-24': 69.0, '2016-11-25': 69.0, '2016-11-26': 70.0, '2016-11-27': 69.0, '2016-11-28': 71.0, '2016-11-29': 67.0, '2016-11-30': 72.0, '2016-12-01': 71.0, '2016-12-02': 71.0, '2016-12-03': 67.0, '2016-12-04': 76.0, '2016-12-05': 67.0, '2016-12-06': 67.0, '2016-12-07': 68.0, '2016-12-08': 71.0, '2016-12-09': 68.0, '2016-12-10': 68.0, '2016-12-11': 69.0, '2016-12-12': 65.0, '2016-12-13': 70.0, '2016-12-14': 69.0, '2016-12-15': 64.0, '2016-12-16': 60.0, '2016-12-17': 70.0, '2016-12-18': 67.0, '2016-12-19': 72.0, '2016-12-20': 73.0, '2016-12-21': 70.0, '2016-12-22': 68.0, '2016-12-23': 69.0, '2016-12-24': 69.0, '2016-12-25': 69.0, '2016-12-26': 71.0, '2016-12-27': 71.0, '2016-12-28': 71.0, '2016-12-29': 69.0, '2016-12-30': 65.0, '2016-12-31': 65.0, '2017-01-01': 68.0, '2017-01-02': 70.0, '2017-01-03': 71.0, '2017-01-04': 70.0, '2017-01-05': 71.0, '2017-01-06': 65.0, '2017-01-07': 70.0, '2017-01-08': 66.0, '2017-01-09': 69.0, '2017-01-10': 64.0, '2017-01-11': 66.0, '2017-01-12': 68.0, '2017-01-13': 67.0, '2017-01-14': 70.0, '2017-01-15': 68.0, '2017-01-16': 68.0, '2017-01-17': 69.0, '2017-01-18': 73.0, '2017-01-19': 71.0, '2017-01-20': 67.0, '2017-01-21': 67.0, '2017-01-22': 68.0, '2017-01-23': 70.0, '2017-01-24': 67.0, '2017-01-25': 69.0, '2017-01-26': 67.0, '2017-01-27': 69.0, '2017-01-28': 64.0, '2017-01-29': 67.0, '2017-01-30': 66.0, '2017-01-31': 65.0, '2017-02-01': 65.0, '2017-02-02': 60.0, '2017-02-03': 60.0, '2017-02-04': 66.0, '2017-02-05': 69.0, '2017-02-06': 73.0, '2017-02-07': 68.0, '2017-02-08': 68.0, '2017-02-09': 64.0, '2017-02-10': 70.0, '2017-02-11': 66.0, '2017-02-12': 65.0, '2017-02-13': 68.0, '2017-02-14': 79.0, '2017-02-15': 71.0, '2017-02-16': 72.0, '2017-02-17': 70.0, '2017-02-18': 72.0, '2017-02-19': 68.0, '2017-02-20': 69.0, '2017-02-21': 65.0, '2017-02-22': 69.0, '2017-02-23': 72.0, '2017-02-24': 68.0, '2017-02-25': 66.0, '2017-02-26': 64.0, '2017-02-27': 69.0, '2017-02-28': 69.0, '2017-03-01': 64.0, '2017-03-02': 72.0, '2017-03-03': 78.0, '2017-03-04': 70.0, '2017-03-05': 68.0, '2017-03-06': 76.0, '2017-03-07': 72.0, '2017-03-08': 68.0, '2017-03-09': 72.0, '2017-03-10': 65.0, '2017-03-11': 82.0, '2017-03-12': 69.0, '2017-03-13': 69.0, '2017-03-14': 75.0, '2017-03-15': 76.0, '2017-03-16': 77.0, '2017-03-17': 68.0, '2017-03-18': 70.0, '2017-03-19': 74.0, '2017-03-20': 74.0, '2017-03-21': 72.0, '2017-03-22': 72.0, '2017-03-23': 70.0, '2017-03-24': 70.0, '2017-03-25': 72.0, '2017-03-26': 72.0, '2017-03-27': 74.0, '2017-03-28': 69.0, '2017-03-29': 69.0, '2017-03-30': 73.0, '2017-03-31': 76.0, '2017-04-01': 69.0, '2017-04-02': 71.0, '2017-04-03': 73.0, '2017-04-04': 75.0, '2017-04-05': 69.0, '2017-04-06': 72.0, '2017-04-07': 74.0, '2017-04-08': 76.0, '2017-04-09': 70.0, '2017-04-10': 72.0, '2017-04-11': 71.0, '2017-04-12': 70.0, '2017-04-13': 73.0, '2017-04-14': 72.0, '2017-04-15': 70.0, '2017-04-16': 71.0, '2017-04-17': 69.0, '2017-04-18': 71.0, '2017-04-19': 71.0, '2017-04-20': 69.0, '2017-04-21': 70.0, '2017-04-22': 73.0, '2017-04-23': 70.0, '2017-04-24': 75.0, '2017-04-25': 74.0, '2017-04-26': 77.0, '2017-04-27': 76.0, '2017-04-28': 71.0, '2017-04-29': 68.0, '2017-04-30': 58.0, '2017-05-01': 73.0, '2017-05-02': 79.0, '2017-05-03': 70.0, '2017-05-04': 74.0, '2017-05-05': 74.0, '2017-05-06': 74.0, '2017-05-07': 70.0, '2017-05-08': 66.0, '2017-05-10': 72.0, '2017-05-11': 78.0, '2017-05-12': 70.0, '2017-05-13': 71.0, '2017-05-14': 70.0, '2017-05-15': 72.0, '2017-05-16': 71.0, '2017-05-17': 71.0, '2017-05-18': 69.0, '2017-05-19': 68.0, '2017-05-20': 70.0, '2017-05-21': 69.0, '2017-05-22': 72.0, '2017-05-23': 69.0, '2017-05-24': 70.0, '2017-05-25': 75.0, '2017-05-27': 72.0, '2017-05-28': 73.0, '2017-05-29': 74.0, '2017-05-30': 72.0, '2017-05-31': 75.0, '2017-06-01': 74.0, '2017-06-02': 76.0, '2017-06-03': 74.0, '2017-06-04': 77.0, '2017-06-05': 74.0, '2017-06-06': 74.0, '2017-06-07': 79.0, '2017-06-08': 75.0, '2017-06-09': 72.0, '2017-06-10': 72.0, '2017-06-11': 76.0, '2017-06-12': 74.0, '2017-06-13': 73.0, '2017-06-14': 74.0, '2017-06-15': 77.0, '2017-06-16': 74.0, '2017-06-17': 72.0, '2017-06-18': 77.0, '2017-06-19': 76.0, '2017-06-20': 74.0, '2017-06-21': 75.0, '2017-06-22': 76.0, '2017-06-23': 71.0, '2017-06-24': 73.0, '2017-06-25': 79.0, '2017-06-26': 79.0, '2017-06-27': 74.0, '2017-06-28': 74.0, '2017-06-29': 76.0, '2017-06-30': 75.0, '2017-07-01': 74.0, '2017-07-02': 78.0, '2017-07-03': 77.0, '2017-07-04': 77.0, '2017-07-05': 75.0, '2017-07-06': 74.0, '2017-07-07': 74.0, '2017-07-08': 71.0, '2017-07-09': 78.0, '2017-07-10': 77.0, '2017-07-11': 74.0, '2017-07-12': 72.0, '2017-07-13': 77.0, '2017-07-14': 76.0, '2017-07-15': 78.0, '2017-07-16': 75.0, '2017-07-17': 72.0, '2017-07-18': 77.0, '2017-07-20': 75.0, '2017-07-21': 72.0, '2017-07-22': 72.0, '2017-07-23': 78.0, '2017-07-24': 77.0, '2017-07-25': 79.0, '2017-07-26': 73.0, '2017-07-27': 75.0, '2017-07-28': 73.0, '2017-07-29': 77.0, '2017-07-30': 79.0, '2017-07-31': 74.0, '2017-08-01': 72.0, '2017-08-02': 80.0, '2017-08-03': 76.0, '2017-08-04': 77.0, '2017-08-05': 77.0, '2017-08-06': 79.0, '2017-08-07': 78.0, '2017-08-08': 74.0, '2017-08-09': 71.0, '2017-08-10': 75.0, '2017-08-11': 72.0, '2017-08-12': 74.0, '2017-08-13': 80.0, '2017-08-14': 79.0, '2017-08-15': 70.0, '2017-08-18': 76.0, '2017-08-19': 71.0, '2017-08-20': 78.0, '2017-08-21': 76.0, '2017-08-22': 76.0, '2017-08-23': 76.0, '2017-05-09': 72.0, '2017-05-26': 72.0, '2017-07-19': 74.0, '2017-08-16': 71.0, '2017-08-17': 72.0}\n"
     ]
    }
   ],
   "source": [
    "from werkzeug.wrappers import Request, Response\n",
    "from flask import Flask\n",
    "\n",
    "app = Flask(__name__)\n",
    "\n",
    "@app.route(\"/\")\n",
    "def hello():\n",
    "    return \"Hello World!\"\n",
    "\n",
    "@app.route(\"/api/v1.0/precipitation\")\n",
    "def precipitation():\n",
    "    previous_tobs_dates=session.query(Measurement.date, Measurement.tobs).filter(Measurement.date > yearAgo).all()\n",
    "    d = {}\n",
    "    for item in previous_tobs_dates:\n",
    "        d[item[0]]=item[1]\n",
    "    print(d)\n",
    "    return json.dumps(d)\n",
    "\n",
    "if __name__ == '__main__':\n",
    "    from werkzeug.serving import run_simple\n",
    "    run_simple('localhost', 9000, app)"
   ]
  },
  {
   "cell_type": "code",
   "execution_count": null,
   "metadata": {},
   "outputs": [],
   "source": []
  },
  {
   "cell_type": "code",
   "execution_count": null,
   "metadata": {},
   "outputs": [],
   "source": []
  }
 ],
 "metadata": {
  "kernelspec": {
   "display_name": "Python 3",
   "language": "python",
   "name": "python3"
  },
  "language_info": {
   "codemirror_mode": {
    "name": "ipython",
    "version": 3
   },
   "file_extension": ".py",
   "mimetype": "text/x-python",
   "name": "python",
   "nbconvert_exporter": "python",
   "pygments_lexer": "ipython3",
   "version": "3.6.5"
  }
 },
 "nbformat": 4,
 "nbformat_minor": 2
}
